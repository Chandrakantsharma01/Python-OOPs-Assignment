{
  "nbformat": 4,
  "nbformat_minor": 0,
  "metadata": {
    "colab": {
      "provenance": []
    },
    "kernelspec": {
      "name": "python3",
      "display_name": "Python 3"
    },
    "language_info": {
      "name": "python"
    }
  },
  "cells": [
    {
      "cell_type": "markdown",
      "source": [
        "# Python OOPs\n",
        "\n",
        "**Assignment Question**"
      ],
      "metadata": {
        "id": "A25To09d1F70"
      }
    },
    {
      "cell_type": "markdown",
      "source": [
        "**Python OOPs Questions**"
      ],
      "metadata": {
        "id": "rHDnky_T1KOO"
      }
    },
    {
      "cell_type": "markdown",
      "source": [
        "1. What is Object-Oriented Programming (OOP) ?\n",
        "\n",
        "Answer: Object-oriented programming (OOP) is a programming paradigm that uses \"objects\" to design computer programs. These objects contain data (attributes) and methods (functions) that operate on that data, promoting modularity, reusability, and easier maintenance of code."
      ],
      "metadata": {
        "id": "j3w0EPMC3l4Y"
      }
    },
    {
      "cell_type": "markdown",
      "source": [
        "2. What is a class in OOP?\n",
        "\n",
        "Answer: In object-oriented programming (OOP), a class is a blueprint or template for creating objects. It defines the structure and behavior (attributes and methods) that its objects will have. Think of it as a user-defined data type that acts as a template for creating instances."
      ],
      "metadata": {
        "id": "MopEgDPw4lob"
      }
    },
    {
      "cell_type": "markdown",
      "source": [
        " 3. What is an object in OOP?\n",
        "\n",
        "Answer: In Object-Oriented Programming (OOP), an object is a fundamental building block representing a specific instance of a class. It encapsulates both data (attributes) and the methods (functions) that operate on that data. Essentially, objects are the tangible entities that exist in a program, performing actions and interacting with each other."
      ],
      "metadata": {
        "id": "ImOXDccH7M7i"
      }
    },
    {
      "cell_type": "markdown",
      "source": [
        "4. What is the difference between abstraction and encapsulation?\n",
        "\n",
        "Answer: Abstraction focuses on what an object does, while encapsulation focuses on how it does it. Abstraction hides unnecessary details and complexity by exposing only essential information, while encapsulation bundles data and methods that operate on that data within a single unit, also known as a class, and controls access to that data."
      ],
      "metadata": {
        "id": "FlPBnIPz7oXs"
      }
    },
    {
      "cell_type": "markdown",
      "source": [
        "5. What are dunder methods in Python?\n",
        "\n",
        "Answer: Dunder methods, also known as magic methods or special methods, are distinct methods in Python that are identified by their double leading and trailing underscores (e.g., __init__, __str__, __add__). These methods allow custom classes to interact seamlessly with Python's built-in operations, functions, and syntax."
      ],
      "metadata": {
        "id": "wRR_uju-7prb"
      }
    },
    {
      "cell_type": "markdown",
      "source": [
        "6. Explain the concept of inheritance in OOP.\n",
        "\n",
        "Answer: Inheritance in object-oriented programming (OOP) is a mechanism where a new class (the subclass or child class) is created based on an existing class (the superclass or parent class), inheriting its attributes and methods. This promotes code reusability and allows for creating a hierarchy of classes with shared functionality. Essentially, the subclass gets a \"head start\" by inheriting what the superclass has, and can also add its own unique characteristics."
      ],
      "metadata": {
        "id": "8W34CeQB7p7A"
      }
    },
    {
      "cell_type": "markdown",
      "source": [
        "7. What is polymorphism in OOP?\n",
        "\n",
        "Answer: Polymorphism, in object-oriented programming (OOP), is the ability of an object to take on many forms or behaviors. It allows different classes to be treated as objects of a common superclass, enabling a single interface to handle diverse object types. This is achieved through mechanisms like method overriding and overloading, leading to more flexible, reusable, and maintainable code."
      ],
      "metadata": {
        "id": "_kclnVn07qIC"
      }
    },
    {
      "cell_type": "markdown",
      "source": [
        "8. How is encapsulation achieved in Python?\n",
        "\n",
        "Answer: Encapsulation in Python is achieved through a combination of conventions and language features, as Python does not have strict access modifiers like public, private, or protected found in some other object-oriented languages."
      ],
      "metadata": {
        "id": "3cRLJ8Ik7qVB"
      }
    },
    {
      "cell_type": "markdown",
      "source": [
        "9. What is a constructor in Python?\n",
        "\n",
        "Answer: Python, a constructor is a special method within a class that is automatically invoked when a new object (instance) of that class is created. Its primary purpose is to initialize the object's attributes and set up its initial state."
      ],
      "metadata": {
        "id": "Q_FO1u4e7qhn"
      }
    },
    {
      "cell_type": "markdown",
      "source": [
        "10. What are class and static methods in Python?\n",
        "\n",
        "Answer: In Python, class methods and static methods are distinct types of methods within a class, differing in their access to class and instance data and how they are typically used.\n",
        "\n",
        "**Class Methods:**\n",
        "\n",
        "*Definition:*\n",
        "\n",
        "Class methods are bound to the class and receive the class itself as the first argument, conventionally named cls. They are defined using the @classmethod decorator.\n",
        "\n",
        "*Access:*\n",
        "\n",
        "They can access and modify class-level attributes and call other class methods. They do not have direct access to instance-specific data unless an instance is explicitly passed to them.\n",
        "\n",
        "*Use Cases:*\n",
        "\n",
        "- Alternative Constructors: Creating instances of the class with specific initializations, often based on different input formats.\n",
        "- Operations on Class-Level Data: Performing actions that affect the class as a whole, such as managing class-wide counters or settings.\n",
        "\n",
        "**Static Methods:**\n",
        "\n",
        "*Definition:*\n",
        "\n",
        "Static methods are not bound to either the class or an instance. They do not receive self (instance) or cls (class) as their first argument. They are defined using the @staticmethod decorator.\n",
        "\n",
        "*Access:*\n",
        "\n",
        "They cannot access or modify class-level attributes or instance-specific data directly. They behave like regular functions but are logically grouped within the class's namespace.\n",
        "\n",
        "*Use Cases:*\n",
        "\n",
        "- Utility Functions: Providing helper functions that are logically related to the class but do not depend on the class's state or any instance's state.\n",
        "- Encapsulation of Related Logic: Grouping functions that perform calculations or operations relevant to the class's purpose, without requiring an instance."
      ],
      "metadata": {
        "id": "jXHO-5OS7qvJ"
      }
    },
    {
      "cell_type": "markdown",
      "source": [
        "11. What is method overloading in Python?\n",
        "\n",
        "Answer: Method overloading in Python refers to the ability to define multiple methods within a single class that share the same name but can handle different parameters. Unlike some other object-oriented programming languages like Java or C++, Python does not directly support traditional method overloading where you define multiple functions with the same name but different argument lists (based on type or number)."
      ],
      "metadata": {
        "id": "4iJ_h8MJ7q65"
      }
    },
    {
      "cell_type": "markdown",
      "source": [
        "12.  What is method overriding in OOP?\n",
        "\n",
        "Answer: Method overriding in object-oriented programming is when a subclass provides a specific implementation of a method that is already defined in its superclass. This allows the subclass to customize the behavior of the method without altering the original implementation in the superclass. In essence, it provides a way for a subclass to \"replace\" or \"override\" a method inherited from its parent class."
      ],
      "metadata": {
        "id": "y3gUAIfm7rHT"
      }
    },
    {
      "cell_type": "markdown",
      "source": [
        "13. What is a property decorator in Python?\n",
        "\n",
        "Answer: In Python, the @property decorator is a built-in decorator that transforms a method within a class into a \"property.\" This allows the method to be accessed and potentially modified or deleted as if it were a regular attribute, while still enabling the execution of custom logic (like validation, computation, or access control) when the attribute is accessed, assigned, or deleted.\n"
      ],
      "metadata": {
        "id": "HC4ZAfqU7rTW"
      }
    },
    {
      "cell_type": "markdown",
      "source": [
        "14. Why is polymorphism important in OOP?\n",
        "\n",
        "Answer: Polymorphism is crucial in object-oriented programming because it allows objects of different classes to be treated as objects of a common type, promoting code reusability, flexibility, and maintainability. It enables methods to behave differently based on the object's actual class at runtime, which simplifies code and allows for easier extension of functionality."
      ],
      "metadata": {
        "id": "kPr5IzMi7rel"
      }
    },
    {
      "cell_type": "markdown",
      "source": [
        "15.  What is an abstract class in Python?\n",
        "\n",
        "Answer: An abstract class in Python is a class that cannot be instantiated directly and is designed to be inherited by other classes. It serves as a blueprint or a template, defining a common interface or structure that its subclasses must adhere to.  \n"
      ],
      "metadata": {
        "id": "VT0vibG47rqh"
      }
    },
    {
      "cell_type": "markdown",
      "source": [
        "16. What are the advantages of OOP?\n",
        "\n",
        "Answer: Object-Oriented Programming (OOP) offers several advantages, primarily enhancing code organization, reusability, and maintainability. Key benefits include modularity, allowing for easier troubleshooting and collaborative development; code reusability through inheritance, reducing redundancy; and flexibility through polymorphism, enabling adaptable solutions. Additionally, OOP simplifies complex systems, improves code readability, and facilitates scalability and maintainability."
      ],
      "metadata": {
        "id": "J-PD8xHN7r2H"
      }
    },
    {
      "cell_type": "markdown",
      "source": [
        "17. What is the difference between a class variable and an instance variable?\n",
        "\n",
        "Answer: Class variables and instance variables differ in their scope and how they are shared among class instances. Class variables are associated with the class itself and are shared by all instances of that class, while instance variables are specific to each individual object (instance) of the class.\n",
        "\n",
        "Class Variables vs Instance Variables in Python\n",
        "\n",
        "**Class Variables:**\n",
        "\n",
        "*Definition:*\n",
        "Class variables are defined within the class definition, but outside of any method, and are declared with the static keyword (in some languages).\n",
        "\n",
        "*Scope:*\n",
        "\n",
        "They are accessible to all instances of the class, as well as to the class itself.\n",
        "\n",
        "*Sharing:*\n",
        "\n",
        "All instances of the class share the same copy of the class variable.\n",
        "\n",
        "*Use Cases:*\n",
        "\n",
        "Class variables are suitable for storing data that is common to all instances of a class, such as the number of instances created, default values, or\n",
        "constants.\n",
        "\n",
        "**Instance Variables:**\n",
        "\n",
        "*Definition:*\n",
        "\n",
        "Instance variables are defined within a class's methods (often the constructor) and are not declared with the static keyword.\n",
        "\n",
        "*Scope:*\n",
        "\n",
        "They are specific to each instance (object) of the class and are not shared between different instances.\n",
        "\n",
        "*Sharing:*\n",
        "\n",
        "Each object has its own copy of the instance variable.\n",
        "\n",
        "*Use Cases:*\n",
        "\n",
        "Instance variables are used to store data that is unique to each individual object, such as its name, color, or other attributes."
      ],
      "metadata": {
        "id": "Jz9gHbIW7sCv"
      }
    },
    {
      "cell_type": "markdown",
      "source": [
        " 18. What is multiple inheritance in Python?\n",
        "\n",
        "Answer: Multiple inheritance in Python is a feature that allows a class to inherit attributes and methods from more than one parent class. This means a single child class can combine functionalities and characteristics from several distinct base classes.\n"
      ],
      "metadata": {
        "id": "f7t25GNN7sOV"
      }
    },
    {
      "cell_type": "markdown",
      "source": [
        "19. Explain the purpose of ‘’ _ _ str _ _ ’ and ‘ _ _ repr _ _ ’ ‘ methods in Python.\n",
        "\n",
        "Answer: In Python, __str__ and __repr__ are special methods (also known as \"dunder methods\") used to define string representations of objects, but they serve different purposes and are intended for different audiences.\n",
        "\n",
        "**_ _ str _ _ (for \"string\"):**\n",
        "\n",
        "- Purpose:To provide a human-readable, user-friendly string representation of an object. This is what you would typically want to display to an end-user or for logging purposes.\n",
        "\n",
        "- Usage: It is implicitly called by functions like print() and str().\n",
        "Characteristics: The output should be clear, concise, and easy to understand, even if it means omitting some technical details for the sake of readability.\n",
        "\n",
        "**_ _ repr _ _ (for \"representation\"):**\n",
        "\n",
        "- Purpose: To provide a detailed, unambiguous, and developer-oriented string representation of an object. Its primary goal is to be useful for debugging and introspection. Ideally, the string returned by __repr__ should be a valid Python expression that could be used to recreate the object (though this is not always strictly achievable or necessary).\n",
        "\n",
        "- Usage: It is implicitly called when an object is displayed in the interactive interpreter, or explicitly by the repr() function. If __str__ is not defined for a class, __repr__ will be used as a fallback for print() and str().\n",
        "Characteristics: The output should be comprehensive and contain enough information to reconstruct the object's state, or at least provide a clear picture of its internal data."
      ],
      "metadata": {
        "id": "_PtX9PZQ7sZT"
      }
    },
    {
      "cell_type": "markdown",
      "source": [
        "20. What is the significance of the ‘super()’ function in Python?\n",
        "\n",
        "Answer: The super() function in Python holds significant importance within the context of object-oriented programming, particularly concerning inheritance. Its primary significance lies in facilitating the interaction between a subclass and its parent (or \"superclass\") in an inheritance hierarchy."
      ],
      "metadata": {
        "id": "fCiyiJou7sj9"
      }
    },
    {
      "cell_type": "markdown",
      "source": [
        "20. What is the significance of the _ _ del _ _ method in Python?\n",
        "\n",
        "Answer: The _ _ del _ _ method in Python, also known as the destructor, holds significance primarily for resource cleanup when an object is about to be garbage collected."
      ],
      "metadata": {
        "id": "YDK2Vzmy7svn"
      }
    },
    {
      "cell_type": "markdown",
      "source": [
        "21. What is the difference between @staticmethod and @classmethod in Python?\n",
        "\n",
        "Answer: The primary difference between @staticmethod and @classmethod in Python lies in how they interact with the class and its instances:\n",
        "\n",
        "*@staticmethod:*\n",
        "- Decorates a method that behaves like a regular function, but is logically grouped within a class.\n",
        "- It does not receive an implicit first argument (like self for instance methods or cls for class methods).\n",
        "- Cannot access or modify instance-specific data or class-specific data.\n",
        "- Useful for utility functions that belong to the class conceptually but don't require any knowledge of the class or its instances.\n",
        "\n",
        "\n",
        "    class MathUtils:\n",
        "        @staticmethod\n",
        "        def add(a, b):\n",
        "            return a + b\n",
        "\n",
        "*@classmethod:*\n",
        "\n",
        "- Decorates a method that is bound to the class itself, not to an instance.\n",
        "- It receives the class object (cls) as its first implicit argument.\n",
        "- Can access and modify class-level attributes and call other class methods.\n",
        "- Often used for factory methods that create instances of the class with specific configurations, or for methods that operate on class-level data.\n",
        "\n",
        "\n",
        "    class Car:\n",
        "        num_wheels = 4\n",
        "\n",
        "        @classmethod\n",
        "        def create_sedan(cls, color):\n",
        "            return cls(color, \"sedan\") # cls refers to the Car class\n",
        "\n",
        "        def __init__(self, color, type):\n",
        "            self.color = color\n",
        "            self.type = type"
      ],
      "metadata": {
        "id": "HKWkS3Mh7s-r"
      }
    },
    {
      "cell_type": "markdown",
      "source": [
        "23. How does polymorphism work in Python with inheritance?\n",
        "\n",
        "Answer: Polymorphism in Python, when combined with inheritance, allows objects of different classes to be treated as objects of a common superclass, enabling a single interface to be used for different underlying implementations. This is primarily achieved through Method Overriding.\n",
        "\n",
        "**Here's how it works:**\n",
        "\n",
        "*Inheritance:*\n",
        "\n",
        "A child class (subclass) inherits methods and attributes from a parent class (superclass). This establishes a hierarchical relationship between classes.\n",
        "\n",
        "*Method Overriding:*\n",
        "\n",
        "The child class can provide its own specific implementation for a method that is already defined in its parent class. This redefinition of the method in the child class is known as method overriding. When an object of the child class calls this method, its own overridden version is executed instead of the parent's version.\n",
        "\n",
        "*Polymorphic Behavior:*\n",
        "\n",
        "Because the child class overrides the parent's method, objects of the child class can be used interchangeably with objects of the parent class when calling that specific method. The same method call can produce different results depending on the actual type of the object at runtime.\n",
        "\n",
        "*Example:*\n",
        "\n",
        "\n",
        "    class Vehicle:\n",
        "    def __init__(self, brand):\n",
        "        self.brand = brand\n",
        "\n",
        "    def move(self):\n",
        "        print(f\"{self.brand} is moving.\")\n",
        "\n",
        "    class Car(Vehicle):\n",
        "    def move(self):\n",
        "        print(f\"{self.brand} is driving.\")\n",
        "\n",
        "    class Boat(Vehicle):\n",
        "    def move(self):\n",
        "        print(f\"{self.brand} is sailing.\")\n",
        "\n",
        "    # Create objects\n",
        "    car1 = Car(\"Ford\")\n",
        "    boat1 = Boat(\"Yamaha\")\n",
        "    vehicle_generic = Vehicle(\"Generic Vehicle\")\n",
        "\n",
        "    # Demonstrate polymorphism\n",
        "    for item in [car1, boat1, vehicle_generic]:\n",
        "    item.move()"
      ],
      "metadata": {
        "id": "2df8grH47tXo"
      }
    },
    {
      "cell_type": "markdown",
      "source": [
        "24. What is method chaining in Python OOP?\n",
        "\n",
        "Answer: Method chaining in Python's Object-Oriented Programming (OOP) is a technique where multiple methods are called sequentially on the same object in a single line of code. This is achieved by having each method return the object itself (or a modified version of it) after performing its operation."
      ],
      "metadata": {
        "id": "Jzmi5GoT7tkd"
      }
    },
    {
      "cell_type": "markdown",
      "source": [
        "25. What is the purpose of the _ _ call _ _ method in Python?\n",
        "\n",
        "Answer: The purpose of the _ _ call _ _ method in Python is to make instances of a class callable, meaning they can be invoked like functions.\n",
        "\n",
        "When a class defines a _ _ call _ _ method, you can treat an object created from that class as if it were a function. When you \"call\" the object (e.g., my_object()), Python automatically executes the code defined within the _ _ call _ _ method of that object's class."
      ],
      "metadata": {
        "id": "_L2rC6JP8anf"
      }
    },
    {
      "cell_type": "markdown",
      "source": [
        "# Practical Questions"
      ],
      "metadata": {
        "id": "af2X-BaiJFb3"
      }
    },
    {
      "cell_type": "code",
      "source": [
        "'''1. Create a parent class Animal with a method speak() that prints a generic message. Create a child class Dog\n",
        "that overrides the speak() method to print \"Bark!\".\n",
        "'''\n",
        "class Animal:\n",
        "    def speak(self):\n",
        "        print(\"Generic animal sound\")\n",
        "class Dog (Animal):\n",
        "    def speak(self):\n",
        "        print(\"Bark!\")\n",
        "dog = Dog()\n",
        "dog.speak()\n"
      ],
      "metadata": {
        "colab": {
          "base_uri": "https://localhost:8080/"
        },
        "id": "A5ImdoNIJKKJ",
        "outputId": "b96246a8-8800-49b9-f0e1-dc333dc5fe5d"
      },
      "execution_count": 2,
      "outputs": [
        {
          "output_type": "stream",
          "name": "stdout",
          "text": [
            "Bark!\n"
          ]
        }
      ]
    },
    {
      "cell_type": "code",
      "source": [
        "'''2. Write a program to create an abstract class Shape with a method area(). Derive classes Circle and Rectangle\n",
        "from it and implement the area() method in both.'''\n",
        "\n",
        "from abc import ABC, abstractmethod\n",
        "import math\n",
        "\n",
        "# Abstract base class\n",
        "class Shape(ABC):\n",
        "\n",
        "    @abstractmethod\n",
        "    def area(self):\n",
        "        pass\n",
        "\n",
        "# Derived class: Circle\n",
        "class Circle(Shape):\n",
        "    def __init__(self, radius):\n",
        "        self.radius = radius\n",
        "\n",
        "    def area(self):\n",
        "        return math.pi * self.radius ** 2\n",
        "\n",
        "# Derived class: Rectangle\n",
        "class Rectangle(Shape):\n",
        "    def __init__(self, length, width):\n",
        "        self.length = length\n",
        "        self.width = width\n",
        "\n",
        "    def area(self):\n",
        "        return self.length * self.width\n",
        "\n",
        "\n",
        "circle = Circle(5)\n",
        "rectangle = Rectangle(4, 6)\n",
        "\n",
        "print(\"Area of Circle:\", circle.area())\n",
        "print(\"Area of Rectangle:\", rectangle.area())"
      ],
      "metadata": {
        "colab": {
          "base_uri": "https://localhost:8080/"
        },
        "id": "M6UbDx7GJUhY",
        "outputId": "18aab831-637f-41d3-f587-60b48581c075"
      },
      "execution_count": 3,
      "outputs": [
        {
          "output_type": "stream",
          "name": "stdout",
          "text": [
            "Area of Circle: 78.53981633974483\n",
            "Area of Rectangle: 24\n"
          ]
        }
      ]
    },
    {
      "cell_type": "code",
      "source": [
        "''' 3. Implement a multi-level inheritance scenario where a class Vehicle has an attribute type. Derive a class Car\n",
        "and further derive a class ElectricCar that adds a battery attribute. '''\n",
        "\n",
        "# Base class\n",
        "class Vehicle:\n",
        "    def __init__(self, vehicle_type):\n",
        "        self.vehicle_type = vehicle_type\n",
        "\n",
        "# First derived class\n",
        "class Car(Vehicle):\n",
        "    def __init__(self, vehicle_type, brand):\n",
        "        super().__init__(vehicle_type)\n",
        "        self.brand = brand\n",
        "\n",
        "# Second derived class (multi-level inheritance)\n",
        "class ElectricCar(Car):\n",
        "    def __init__(self, vehicle_type, brand, battery_capacity):\n",
        "        super().__init__(vehicle_type, brand)\n",
        "        self.battery_capacity = battery_capacity\n",
        "\n",
        "    def display_info(self):\n",
        "        print(f\"Type: {self.vehicle_type}\")\n",
        "        print(f\"Brand: {self.brand}\")\n",
        "        print(f\"Battery Capacity: {self.battery_capacity} kWh\")\n",
        "\n",
        "\n",
        "my_electric_car = ElectricCar(\"Four-Wheeler\", \"Tesla\", 75)\n",
        "my_electric_car.display_info()\n"
      ],
      "metadata": {
        "colab": {
          "base_uri": "https://localhost:8080/"
        },
        "id": "lpcyH6qhJYPw",
        "outputId": "9656193e-e1c8-46a4-9da5-08380ac02d96"
      },
      "execution_count": 5,
      "outputs": [
        {
          "output_type": "stream",
          "name": "stdout",
          "text": [
            "Type: Four-Wheeler\n",
            "Brand: Tesla\n",
            "Battery Capacity: 75 kWh\n"
          ]
        }
      ]
    },
    {
      "cell_type": "code",
      "source": [
        "''' 4. Demonstrate polymorphism by creating a base class Bird with a method fly(). Create two derived classes\n",
        "Sparrow and Penguin that override the fly() method.'''\n",
        "\n",
        "\n",
        "# Base class\n",
        "class Bird:\n",
        "    def fly(self):\n",
        "        print(\"This bird can fly.\")\n",
        "\n",
        "# Derived class: Sparrow\n",
        "class Sparrow(Bird):\n",
        "    def fly(self):\n",
        "        print(\"Sparrow is flying high!\")\n",
        "\n",
        "# Derived class: Penguin\n",
        "class Penguin(Bird):\n",
        "    def fly(self):\n",
        "        print(\"Penguins cannot fly, they waddle!\")\n",
        "\n",
        "# Function that demonstrates polymorphism\n",
        "def bird_flight(bird):\n",
        "    bird.fly()\n",
        "\n",
        "\n",
        "sparrow = Sparrow()\n",
        "penguin = Penguin()\n",
        "\n",
        "bird_flight(sparrow)\n",
        "bird_flight(penguin)\n"
      ],
      "metadata": {
        "colab": {
          "base_uri": "https://localhost:8080/"
        },
        "id": "yyiT5dJ3JbiR",
        "outputId": "11e4c138-09e7-413a-befa-d8d75462a561"
      },
      "execution_count": 6,
      "outputs": [
        {
          "output_type": "stream",
          "name": "stdout",
          "text": [
            "Sparrow is flying high!\n",
            "Penguins cannot fly, they waddle!\n"
          ]
        }
      ]
    },
    {
      "cell_type": "code",
      "source": [
        "''' 5. Write a program to demonstrate encapsulation by creating a class BankAccount with private attributes\n",
        "balance and methods to deposit, withdraw, and check balance. '''\n",
        "\n",
        "class BankAccount:\n",
        "    def __init__(self, initial_balance=0):\n",
        "        self.__balance = initial_balance  # private attribute\n",
        "\n",
        "    # Method to deposit money\n",
        "    def deposit(self, amount):\n",
        "        if amount > 0:\n",
        "            self.__balance += amount\n",
        "            print(f\"Deposited ₹{amount}\")\n",
        "        else:\n",
        "            print(\"Deposit amount must be positive.\")\n",
        "\n",
        "    # Method to withdraw money\n",
        "    def withdraw(self, amount):\n",
        "        if amount > self.__balance:\n",
        "            print(\"Insufficient balance.\")\n",
        "        elif amount <= 0:\n",
        "            print(\"Withdrawal amount must be positive.\")\n",
        "        else:\n",
        "            self.__balance -= amount\n",
        "            print(f\"Withdrew ₹{amount}\")\n",
        "\n",
        "    # Method to check balance\n",
        "    def check_balance(self):\n",
        "        print(f\"Current Balance: ₹{self.__balance}\")\n",
        "\n",
        "\n",
        "account = BankAccount(1000)\n",
        "account.check_balance()\n",
        "account.deposit(500)\n",
        "account.withdraw(300)\n",
        "account.check_balance()\n",
        "\n",
        "\n"
      ],
      "metadata": {
        "colab": {
          "base_uri": "https://localhost:8080/"
        },
        "id": "9pJWgzvrJfAy",
        "outputId": "e5833b96-8fc4-4547-ba34-7e9e4771d9f8"
      },
      "execution_count": 7,
      "outputs": [
        {
          "output_type": "stream",
          "name": "stdout",
          "text": [
            "Current Balance: ₹1000\n",
            "Deposited ₹500\n",
            "Withdrew ₹300\n",
            "Current Balance: ₹1200\n"
          ]
        }
      ]
    },
    {
      "cell_type": "code",
      "source": [
        "''' 6. Demonstrate runtime polymorphism using a method play() in a base class Instrument. Derive classes Guitar\n",
        "and Piano that implement their own version of play(). '''\n",
        "\n",
        "# Base class\n",
        "class Instrument:\n",
        "    def play(self):\n",
        "        print(\"Playing an instrument.\")\n",
        "\n",
        "# Derived class: Guitar\n",
        "class Guitar(Instrument):\n",
        "    def play(self):\n",
        "        print(\"Strumming the guitar.\")\n",
        "\n",
        "# Derived class: Piano\n",
        "class Piano(Instrument):\n",
        "    def play(self):\n",
        "        print(\"Playing the piano.\")\n",
        "\n",
        "# Function that demonstrates runtime polymorphism\n",
        "def perform(instrument):\n",
        "    instrument.play()\n",
        "\n",
        "\n",
        "guitar = Guitar()\n",
        "piano = Piano()\n",
        "\n",
        "perform(guitar)\n",
        "perform(piano)\n",
        "\n"
      ],
      "metadata": {
        "colab": {
          "base_uri": "https://localhost:8080/"
        },
        "id": "Z2GOjPBdJiYP",
        "outputId": "0b3ca879-94cd-48f4-e909-58fec2cfd9a9"
      },
      "execution_count": 8,
      "outputs": [
        {
          "output_type": "stream",
          "name": "stdout",
          "text": [
            "Strumming the guitar.\n",
            "Playing the piano.\n"
          ]
        }
      ]
    },
    {
      "cell_type": "code",
      "source": [
        "'''7. Create a class MathOperations with a class method add_numbers() to add two numbers and a static\n",
        "method subtract_numbers() to subtract two numbers.'''\n",
        "\n",
        "class MathOperations:\n",
        "    @classmethod\n",
        "    def add_numbers(cls, a, b):\n",
        "        return a + b\n",
        "\n",
        "    @staticmethod\n",
        "    def subtract_numbers(a, b):\n",
        "        return a - b\n",
        "\n",
        "# Example usage\n",
        "sum_result = MathOperations.add_numbers(10, 5)\n",
        "diff_result = MathOperations.subtract_numbers(10, 5)\n",
        "\n",
        "print(\"Sum:\", sum_result)\n",
        "print(\"Difference:\", diff_result)"
      ],
      "metadata": {
        "colab": {
          "base_uri": "https://localhost:8080/"
        },
        "id": "ASnDTXf8JmMi",
        "outputId": "9d8df9b0-3102-4da3-8636-a0f1bef5a514"
      },
      "execution_count": 9,
      "outputs": [
        {
          "output_type": "stream",
          "name": "stdout",
          "text": [
            "Sum: 15\n",
            "Difference: 5\n"
          ]
        }
      ]
    },
    {
      "cell_type": "code",
      "source": [
        "#8. Implement a class Person with a class method to count the total number of persons created.\n",
        "\n",
        "class Person:\n",
        "    count = 0\n",
        "\n",
        "    def __init__(self, name):\n",
        "        self.name = name\n",
        "        Person.count += 1\n",
        "\n",
        "    @classmethod\n",
        "    def total_persons(cls):\n",
        "        return cls.count\n",
        "\n",
        "\n",
        "p1 = Person(\"Alice\")\n",
        "p2 = Person(\"Bob\")\n",
        "p3 = Person(\"Charlie\")\n",
        "\n",
        "print(\"Total persons created:\", Person.total_persons())\n"
      ],
      "metadata": {
        "colab": {
          "base_uri": "https://localhost:8080/"
        },
        "id": "hokuS5PXSmTv",
        "outputId": "2ef9188c-5cf9-493a-9b86-870d75b76ae1"
      },
      "execution_count": 14,
      "outputs": [
        {
          "output_type": "stream",
          "name": "stdout",
          "text": [
            "Total persons created: 3\n"
          ]
        }
      ]
    },
    {
      "cell_type": "code",
      "source": [
        "#9. Write a class Fraction with attributes numerator and denominator. Override the str method to display the fraction as \"numerator/denominator\".\n",
        "\n",
        "class Fraction:\n",
        "    def __init__(self, numerator, denominator):\n",
        "        self.numerator = numerator\n",
        "        self.denominator = denominator\n",
        "\n",
        "    def __str__(self):\n",
        "        return f\"{self.numerator}/{self.denominator}\"\n",
        "\n",
        "\n",
        "f1 = Fraction(3, 4)\n",
        "f2 = Fraction(5, 8)\n",
        "\n",
        "print(f1)\n",
        "print(f2)\n"
      ],
      "metadata": {
        "colab": {
          "base_uri": "https://localhost:8080/"
        },
        "id": "n-0COnqlJrS5",
        "outputId": "f7882d15-d076-49a2-ace1-4073f7472a0a"
      },
      "execution_count": 15,
      "outputs": [
        {
          "output_type": "stream",
          "name": "stdout",
          "text": [
            "3/4\n",
            "5/8\n"
          ]
        }
      ]
    },
    {
      "cell_type": "code",
      "source": [
        "#10. Demonstrate operator overloading by creating a class Vector and overriding the add method to add two vectors.\n",
        "\n",
        "class Vector:\n",
        "    def __init__(self, x, y):\n",
        "        self.x = x\n",
        "        self.y = y\n",
        "\n",
        "\n",
        "    def __add__(self, other):\n",
        "        return Vector(self.x + other.x, self.y + other.y)\n",
        "\n",
        "    def __str__(self):\n",
        "        return f\"({self.x}, {self.y})\"\n",
        "\n",
        "\n",
        "v1 = Vector(2, 3)\n",
        "v2 = Vector(4, 5)\n",
        "v3 = v1 + v2\n",
        "\n",
        "print(\"v1:\", v1)\n",
        "print(\"v2:\", v2)\n",
        "print(\"v1 + v2 =\", v3)\n"
      ],
      "metadata": {
        "colab": {
          "base_uri": "https://localhost:8080/"
        },
        "id": "ZRidClHZJteS",
        "outputId": "f2f5e77b-c9bb-4e6e-a8b3-f3db503f5ac6"
      },
      "execution_count": 16,
      "outputs": [
        {
          "output_type": "stream",
          "name": "stdout",
          "text": [
            "v1: (2, 3)\n",
            "v2: (4, 5)\n",
            "v1 + v2 = (6, 8)\n"
          ]
        }
      ]
    },
    {
      "cell_type": "code",
      "source": [
        "#11. Create a class Person with attributes name and age. Add a method greet() that prints \"Hello, my name is {name} and I am {age} years old.\"\n",
        "\n",
        "class Person:\n",
        "    def __init__(self, name, age):\n",
        "        self.name = name\n",
        "        self.age = age\n",
        "\n",
        "    def greet(self):\n",
        "        print(f\"Hello, my name is {self.name} and I am {self.age} years old.\")\n",
        "\n",
        "\n",
        "p1 = Person(\"Alice\", 30)\n",
        "p2 = Person(\"Bob\", 25)\n",
        "\n",
        "p1.greet()\n",
        "p2.greet()\n"
      ],
      "metadata": {
        "colab": {
          "base_uri": "https://localhost:8080/"
        },
        "id": "elNxi21jJviS",
        "outputId": "805ed36a-faa7-4eac-dca7-232216ea2525"
      },
      "execution_count": 17,
      "outputs": [
        {
          "output_type": "stream",
          "name": "stdout",
          "text": [
            "Hello, my name is Alice and I am 30 years old.\n",
            "Hello, my name is Bob and I am 25 years old.\n"
          ]
        }
      ]
    },
    {
      "cell_type": "code",
      "source": [
        "#12. Implement a class Student with attributes name and grades. Create a method average_grade() to compute the average of the grades.\n",
        "\n",
        "class Student:\n",
        "    def __init__(self, name, grades):\n",
        "        self.name = name\n",
        "        self.grades = grades\n",
        "    def average_grade(self):\n",
        "        if not self.grades:\n",
        "            return 0\n",
        "        return sum(self.grades) / len(self.grades)\n",
        "\n",
        "\n",
        "student1 = Student(\"Alice\", [85, 90, 78])\n",
        "student2 = Student(\"Bob\", [70, 88])\n",
        "\n",
        "print(f\"{student1.name}'s average grade: {student1.average_grade():.2f}\")\n",
        "print(f\"{student2.name}'s average grade: {student2.average_grade():.2f}\")\n"
      ],
      "metadata": {
        "colab": {
          "base_uri": "https://localhost:8080/"
        },
        "id": "_prc9VAfJxY0",
        "outputId": "32f52b40-c522-476d-b249-7a5a4a8a54a1"
      },
      "execution_count": 20,
      "outputs": [
        {
          "output_type": "stream",
          "name": "stdout",
          "text": [
            "Alice's average grade: 84.33\n",
            "Bob's average grade: 79.00\n"
          ]
        }
      ]
    },
    {
      "cell_type": "code",
      "source": [
        "#13. Create a class Rectangle with methods set_dimensions() to set the dimensions and area() to calculate the area.\n",
        "\n",
        "class Rectangle:\n",
        "    def __init__(self):\n",
        "        self.length = 0\n",
        "        self.width = 0\n",
        "\n",
        "    def set_dimensions(self, length, width):\n",
        "        self.length = length\n",
        "        self.width = width\n",
        "\n",
        "    def area(self):\n",
        "        return self.length * self.width\n",
        "\n",
        "\n",
        "rect = Rectangle()\n",
        "rect.set_dimensions(10, 5)\n",
        "print(\"Area of rectangle:\", rect.area())\n"
      ],
      "metadata": {
        "colab": {
          "base_uri": "https://localhost:8080/"
        },
        "id": "nLnQ0Je2J5Oo",
        "outputId": "7742ddf7-ad47-4816-bdd0-75e6941ad1f0"
      },
      "execution_count": 21,
      "outputs": [
        {
          "output_type": "stream",
          "name": "stdout",
          "text": [
            "Area of rectangle: 50\n"
          ]
        }
      ]
    },
    {
      "cell_type": "code",
      "source": [
        "#14. Create a class Employee with a method calculate_salary() that computes the salary based on hours worked and hourly rate. Create a derived class Manager that adds a bonus to the salary.\n",
        "\n",
        "# Base class\n",
        "class Employee:\n",
        "    def __init__(self, name, hours_worked, hourly_rate):\n",
        "        self.name = name\n",
        "        self.hours_worked = hours_worked\n",
        "        self.hourly_rate = hourly_rate\n",
        "\n",
        "    def calculate_salary(self):\n",
        "        return self.hours_worked * self.hourly_rate\n",
        "\n",
        "# Derived class\n",
        "class Manager(Employee):\n",
        "    def __init__(self, name, hours_worked, hourly_rate, bonus):\n",
        "        super().__init__(name, hours_worked, hourly_rate)\n",
        "        self.bonus = bonus\n",
        "\n",
        "    def calculate_salary(self):\n",
        "        base_salary = super().calculate_salary()\n",
        "        return base_salary + self.bonus\n",
        "\n",
        "\n",
        "emp = Employee(\"Alice\", 40, 50)\n",
        "mgr = Manager(\"Bob\", 40, 60, 500)\n",
        "\n",
        "print(f\"{emp.name}'s Salary: ₹{emp.calculate_salary()}\")\n",
        "print(f\"{mgr.name}'s Salary: ₹{mgr.calculate_salary()}\")\n"
      ],
      "metadata": {
        "colab": {
          "base_uri": "https://localhost:8080/"
        },
        "id": "WDFv64-tJ726",
        "outputId": "3edb23e0-c1db-4f87-dc34-5b414a12aa0f"
      },
      "execution_count": 22,
      "outputs": [
        {
          "output_type": "stream",
          "name": "stdout",
          "text": [
            "Alice's Salary: ₹2000\n",
            "Bob's Salary: ₹2900\n"
          ]
        }
      ]
    },
    {
      "cell_type": "code",
      "source": [
        "#15. Create a class Product with attributes name, price, and quantity. Implement a method total_price() that calculates the total price of the product.\n",
        "\n",
        "class Product:\n",
        "    def __init__(self, name, price, quantity):\n",
        "        self.name = name\n",
        "        self.price = price\n",
        "        self.quantity = quantity\n",
        "\n",
        "    def total_price(self):\n",
        "        return self.price * self.quantity\n",
        "\n",
        "\n",
        "product1 = Product(\"Laptop\", 50000, 2)\n",
        "product2 = Product(\"Headphones\", 1500, 3)\n",
        "\n",
        "print(f\"Total price of {product1.name}: ₹{product1.total_price()}\")\n",
        "print(f\"Total price of {product2.name}: ₹{product2.total_price()}\")\n"
      ],
      "metadata": {
        "colab": {
          "base_uri": "https://localhost:8080/"
        },
        "id": "kdGh_WIfJ-8z",
        "outputId": "d47e7fd7-e17f-4612-caf5-dc8881cdd34f"
      },
      "execution_count": 23,
      "outputs": [
        {
          "output_type": "stream",
          "name": "stdout",
          "text": [
            "Total price of Laptop: ₹100000\n",
            "Total price of Headphones: ₹4500\n"
          ]
        }
      ]
    },
    {
      "cell_type": "code",
      "source": [
        "#16. Create a class Animal with an abstract method sound(). Create two derived classes Cow and Sheep that implement the sound() method.\n",
        "\n",
        "from abc import ABC, abstractmethod\n",
        "\n",
        "class Animal(ABC):\n",
        "    @abstractmethod\n",
        "    def sound(self):\n",
        "        pass\n",
        "\n",
        "\n",
        "class Cow(Animal):\n",
        "    def sound(self):\n",
        "        return \"Moo\"\n",
        "\n",
        "\n",
        "class Sheep(Animal):\n",
        "    def sound(self):\n",
        "        return \"Baa\"\n",
        "\n",
        "\n",
        "cow = Cow()\n",
        "sheep = Sheep()\n",
        "\n",
        "print(\"Cow says:\", cow.sound())\n",
        "print(\"Sheep says:\", sheep.sound())\n",
        "\n"
      ],
      "metadata": {
        "colab": {
          "base_uri": "https://localhost:8080/"
        },
        "id": "2axNdKsVKFCC",
        "outputId": "c459980a-72e6-4993-9414-a3d792b212d5"
      },
      "execution_count": 24,
      "outputs": [
        {
          "output_type": "stream",
          "name": "stdout",
          "text": [
            "Cow says: Moo\n",
            "Sheep says: Baa\n"
          ]
        }
      ]
    },
    {
      "cell_type": "code",
      "source": [
        "#17. Create a class Book with attributes title, author, and year_published. Add a method get_book_info() that returns a formatted string with the book's details.\n",
        "\n",
        "class Book:\n",
        "    def __init__(self, title, author, year_published):\n",
        "        self.title = title\n",
        "        self.author = author\n",
        "        self.year_published = year_published\n",
        "\n",
        "    def get_book_info(self):\n",
        "        return f\"'{self.title}' by {self.author} (Published: {self.year_published})\"\n",
        "\n",
        "\n",
        "book1 = Book(\"To Kill a Mockingbird\", \"Harper Lee\", 1960)\n",
        "book2 = Book(\"1984\", \"George Orwell\", 1949)\n",
        "\n",
        "print(book1.get_book_info())\n"
      ],
      "metadata": {
        "colab": {
          "base_uri": "https://localhost:8080/"
        },
        "id": "tRk6EL1lKI74",
        "outputId": "e7646a36-a9e8-443f-8600-058f3318ae05"
      },
      "execution_count": 25,
      "outputs": [
        {
          "output_type": "stream",
          "name": "stdout",
          "text": [
            "'To Kill a Mockingbird' by Harper Lee (Published: 1960)\n"
          ]
        }
      ]
    },
    {
      "cell_type": "code",
      "source": [
        "#18. Create a class House with attributes address and price. Create a derived class Mansion that adds an attribute number_of_rooms.\n",
        "\n",
        "# Base class\n",
        "class House:\n",
        "    def __init__(self, address, price):\n",
        "        self.address = address\n",
        "        self.price = price\n",
        "\n",
        "# Derived class\n",
        "class Mansion(House):\n",
        "    def __init__(self, address, price, number_of_rooms):\n",
        "        super().__init__(address, price)\n",
        "        self.number_of_rooms = number_of_rooms\n",
        "\n",
        "    def display_info(self):\n",
        "        print(f\"Address: {self.address}\")\n",
        "        print(f\"Price: ₹{self.price}\")\n",
        "        print(f\"Number of Rooms: {self.number_of_rooms}\")\n",
        "\n",
        "\n",
        "mansion1 = Mansion(\"123 Luxury Lane\", 50000000, 10)\n",
        "mansion1.display_info()\n"
      ],
      "metadata": {
        "colab": {
          "base_uri": "https://localhost:8080/"
        },
        "id": "BQbyMu0kKLHo",
        "outputId": "77135085-06e6-4df3-af4b-7d327fc4c918"
      },
      "execution_count": 26,
      "outputs": [
        {
          "output_type": "stream",
          "name": "stdout",
          "text": [
            "Address: 123 Luxury Lane\n",
            "Price: ₹50000000\n",
            "Number of Rooms: 10\n"
          ]
        }
      ]
    }
  ]
}